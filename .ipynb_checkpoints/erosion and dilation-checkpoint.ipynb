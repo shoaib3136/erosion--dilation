{
 "cells": [
  {
   "cell_type": "code",
   "execution_count": null,
   "id": "f933c14f",
   "metadata": {},
   "outputs": [],
   "source": [
    "# Import the necessary packages\n",
    "import cv2\n",
    "import numpy as np\n",
    "from matplotlib import pyplot as plt"
   ]
  },
  {
   "cell_type": "code",
   "execution_count": null,
   "id": "cbf9a81c",
   "metadata": {},
   "outputs": [],
   "source": [
    "# Create the text using cv2.putText"
   ]
  },
  {
   "cell_type": "code",
   "execution_count": null,
   "id": "fcb4143e",
   "metadata": {},
   "outputs": [],
   "source": [
    "# Create the structuring element"
   ]
  },
  {
   "cell_type": "code",
   "execution_count": null,
   "id": "668dc5ea",
   "metadata": {},
   "outputs": [],
   "source": [
    "# Erode the image"
   ]
  },
  {
   "cell_type": "code",
   "execution_count": null,
   "id": "fbab5844",
   "metadata": {},
   "outputs": [],
   "source": [
    "# Dilate the image"
   ]
  }
 ],
 "metadata": {
  "kernelspec": {
   "display_name": "Python 3 (ipykernel)",
   "language": "python",
   "name": "python3"
  },
  "language_info": {
   "codemirror_mode": {
    "name": "ipython",
    "version": 3
   },
   "file_extension": ".py",
   "mimetype": "text/x-python",
   "name": "python",
   "nbconvert_exporter": "python",
   "pygments_lexer": "ipython3",
   "version": "3.9.12"
  }
 },
 "nbformat": 4,
 "nbformat_minor": 5
}
